{
  "cells": [
    {
      "cell_type": "markdown",
      "metadata": {
        "id": "lW4BipSSzcFu"
      },
      "source": [
        "# Water Simulation \n",
        "\n",
        "Download necessary files from google drive using the following commands. "
      ]
    },
    {
      "cell_type": "code",
      "execution_count": 1,
      "metadata": {
        "colab": {
          "base_uri": "https://localhost:8080/"
        },
        "id": "jJyclq_Z5HKT",
        "outputId": "dee28b0d-7d78-4fde-c66f-4755dab6c463"
      },
      "outputs": [
        {
          "name": "stdout",
          "output_type": "stream",
          "text": [
            "Retrieving folder list\n",
            "Processing file 14jREwMzk2bcEeTwfgdNDgDm1hXeUnKKd example.dump\n",
            "Processing file 1XiWsuaP16yFq5gXlkbUGLHZGKuPzHQvK rdf_basic.py\n",
            "Processing file 1WE4ZIsS89c0y88hid9-wjL0YTax6RN-f SPCE_water.data\n",
            "Processing file 173O7nelnU7lqIcSbj0E0LH6Jfg0Iwfgy water_lammps.inp\n",
            "Retrieving folder list completed\n",
            "Building directory structure\n",
            "Building directory structure completed\n",
            "Downloading...\n",
            "From: https://drive.google.com/uc?id=14jREwMzk2bcEeTwfgdNDgDm1hXeUnKKd\n",
            "To: /content/MD01/example.dump\n",
            "100% 5.89M/5.89M [00:00<00:00, 94.4MB/s]\n",
            "Downloading...\n",
            "From: https://drive.google.com/uc?id=1XiWsuaP16yFq5gXlkbUGLHZGKuPzHQvK\n",
            "To: /content/MD01/rdf_basic.py\n",
            "100% 1.80k/1.80k [00:00<00:00, 2.62MB/s]\n",
            "Downloading...\n",
            "From: https://drive.google.com/uc?id=1WE4ZIsS89c0y88hid9-wjL0YTax6RN-f\n",
            "To: /content/MD01/SPCE_water.data\n",
            "100% 156k/156k [00:00<00:00, 68.5MB/s]\n",
            "Downloading...\n",
            "From: https://drive.google.com/uc?id=173O7nelnU7lqIcSbj0E0LH6Jfg0Iwfgy\n",
            "To: /content/MD01/water_lammps.inp\n",
            "100% 1.05k/1.05k [00:00<00:00, 2.89MB/s]\n",
            "Download completed\n"
          ]
        }
      ],
      "source": [
        "!gdown --folder https://drive.google.com/drive/folders/1nq6GkOjDW7n8gS-Wtr5XM1Bf6CHcRrEe?usp=sharing"
      ]
    },
    {
      "cell_type": "markdown",
      "metadata": {
        "id": "DbFP1zaL1xg_"
      },
      "source": [
        "## Motivation\n",
        "\n",
        "In this session we will perform a simulation of 300 water molecules. After that, you will write a small tool that calculates the radial distribution function. For that we will make use of the trajectory file we obtained using the MD simulation."
      ]
    },
    {
      "cell_type": "markdown",
      "metadata": {
        "id": "rnVGC0y71wOw"
      },
      "source": [
        "## Simulation: water molecules\n",
        "\n",
        "The archive contains three files. The first file called *water_lammps.inp* defines the conditions of our simulation, which contains the parameters for non-bond, bond and angle potentials. The water model is often referred to as the SPC/E (extended simple point charge) flexible water model. The second file *SPCE_water.data* contains the mass, charge and position of all atoms. It also tells the code how the atoms are connected by bonds and angles. Copy both files to your working directory and start the simulation, with a command similar to the one written below.\n",
        "\n",
        "```bash\n",
        "mpirun -np 4 lmp mpi -in input\n",
        "```\n",
        "\n",
        "The simulation should finish within 20 minutes if run on 4 cores, as described here. After that, open the dump file *water.dump*. It contains 201 frames that were taken every 500 timesteps. A small header section reads the timestep, number of atoms and the simulation cell size for each frame in Angstrom. If the simulation takes longer you can already start programming. The third file *example.dump* gives you an impression on the format that is used to write the trajectory."
      ]
    },
    {
      "cell_type": "markdown",
      "metadata": {
        "id": "1TEZo6J51tg6"
      },
      "source": [
        "## Visualization: watch the movie of the simulation trajectory\n",
        "\n",
        "Type ```vmd``` in the terminal. This opens up 2 windows. We will still use the terminal to load our initial configuration and bond connectivity. In the terminal type (remember your directory paths!)\n",
        "\n",
        "```bash\n",
        "topo readlammpsdata SPCE_water.data\n",
        "```\n",
        "\n",
        "Now that we have the initial configuration and the bond connectivity, it is time to load our trajectory and see how our simulation visually looks and progressed like. \n",
        "\n",
        "In the window of VMD, click on **File** and then **New Molecule**.... In Load files for: select *SPCE_water.data* (select the previously loaded initial configuration in the drop down menu), click on **Browse**... (select *water.dump*) and select **Determine file type**: as LAMMPS Trajectory in the drop-down menu. Then click on Load. Once loaded you can use the ”VMD main” main window to control and see how your simulation has progressed. You can explore options like selecting certain atoms/molecules and colouring them differently or using different representations like beads, lines, ribbons etc. found in **Graphics and Representations**... "
      ]
    },
    {
      "cell_type": "markdown",
      "metadata": {
        "id": "jtsb-sHX21yJ"
      },
      "source": [
        "## Analysis: radial distribution function (rdf)\n",
        "\n",
        "The rdf is the normalized number density of particles $i$ with distance to another particle $j$. This means that one has to count how many particles $i$ are inside a radial shell of a predefined slab size with a thickness dr around a particle $j$ with a distance of $r$. Division of this number by the volume element of this shell gives you the number density. At the end you must normalize this density by the bulk density to get the normalized radial distribution function. Figure 1 illustrates the situation. Use the trajectory file from the water simulation to calculate the rdf for all pairs of oxygen-oxygen.\n",
        "\n",
        "For this, write a program, based on the code prepared: *rdf_basic.py*, that reads the positions of all oxygen atoms and save them in an array . Then for each frame, loop over all oxygen $j$ and measure the distance to all other oxygen atoms $i$. You will need three loops for that. Once you have the distance, you must determine the slab where atom $i$ is located. Remember that the coordinates in your trajectory file are unfolded box coordinates. However, for the radial distributions function you need to calculate the distance according to the closest image convention. As a consequence two atoms cannot be further away than half of the box length. Save your result in a histogram that counts the number of atoms found in each shell and print out the average at the end. Later you can refine the code and divide by the shell volume and the bulk density. \n",
        "\n",
        "Hint: you can always compare your resulting rdf to *oxygen.rdf* which will be created by LAMMPS when you finished your simulation.\n",
        "\n",
        "<img src=\"https://drive.google.com/uc?id=1aWHrZt79ZRO3Y5OVhQ04S7qaDTfG92EP\" alt=\"drawing\" width=\"400\"/>"
      ]
    },
    {
      "cell_type": "markdown",
      "metadata": {
        "id": "lKgYXzSE5qCt"
      },
      "source": [
        "## Exercises\n",
        "\n",
        "1. Describe the SPC/E water model in your own words. Which other water models are used in literature? What do you think are examples to use different water models?\n",
        "\n",
        "2. Write a flow scheme of the rdf algorithm before you start writing the program itself. How does the ensemble bulk density relate to the density used to normalize the rdf? How do you account for periodic boundary conditions?\n",
        "\n",
        " Hint: To dramatically speed up your pbc treatment look into numpy’s ”where” method (np.where). And remember that arrays can be accessed with a list of indices.\n",
        "\n",
        "3. Plot the radial distribution function of oxygen-oxygen. Plot the integral of the rdf. What is the physical meaning of this integral? Why does the radial distribution function converge towards unity? Describe the different parts of the rdf. Supply your source code.\n",
        "\n",
        "4. Draw the first 6 peaks of a radial distribution function of a primitive cubic cell at zero Kelvin. How would the distribution function change with higher temperature?"
      ]
    },
    {
      "cell_type": "markdown",
      "metadata": {},
      "source": [
        "Acknowledge: This tutorial adapted from BCOM (Yash Jain, Tobias Materzok, Florian Müller-Plathe)"
      ]
    },
    {
      "cell_type": "markdown",
      "metadata": {},
      "source": []
    }
  ],
  "metadata": {
    "colab": {
      "name": "MolecularDynamics.ipynb",
      "provenance": []
    },
    "kernelspec": {
      "display_name": "Python 3",
      "name": "python3"
    },
    "language_info": {
      "name": "python"
    }
  },
  "nbformat": 4,
  "nbformat_minor": 0
}
